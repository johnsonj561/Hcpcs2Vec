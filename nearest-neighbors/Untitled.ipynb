{
 "cells": [
  {
   "cell_type": "code",
   "execution_count": 1,
   "metadata": {},
   "outputs": [],
   "source": [
    "import pandas as pd\n",
    "import numpy as np\n",
    "import os\n",
    "from sklearn.neighbors import NearestNeighbors\n",
    "from gensim.models import KeyedVectors"
   ]
  },
  {
   "cell_type": "markdown",
   "metadata": {},
   "source": [
    "## Part B Data\n",
    "\n",
    "Will need HCPCS codes and their descriptions."
   ]
  },
  {
   "cell_type": "code",
   "execution_count": 2,
   "metadata": {},
   "outputs": [],
   "source": [
    "partb = pd.read_csv(os.environ['CMS_PARTB_PATH'], usecols=['hcpcs_code', 'hcpcs_description'])\n",
    "unique_hcpcs = partb['hcpcs_code'].unique()"
   ]
  },
  {
   "cell_type": "code",
   "execution_count": 3,
   "metadata": {},
   "outputs": [],
   "source": [
    "partb = partb.groupby('hcpcs_code').agg({ 'hcpcs_description': 'first' }).reset_index()"
   ]
  },
  {
   "cell_type": "code",
   "execution_count": 4,
   "metadata": {},
   "outputs": [],
   "source": [
    "hcpcs_definitions = {}\n",
    "\n",
    "for _, row in partb.iterrows():\n",
    "  hcpcs_definitions[row.hcpcs_code] = row.hcpcs_description"
   ]
  },
  {
   "cell_type": "code",
   "execution_count": null,
   "metadata": {},
   "outputs": [],
   "source": [
    "'00140'\n",
    "'11755'\n",
    "'20926': 'Tissue graft'\n",
    "  '25320': 'Repair of wrist joint'\n",
    "38900 Lymph node imaging during surgery\n",
    "83904 Genetic test\n",
    "J3120 Injection, testosterone enanthate, up to 100 mg\n",
    "23465 Repair of shoulder joint\n",
    "70557 MRI scan of brain\n",
    "71030 X-ray of chest, minimum of 4 views\n",
    "97003 Occupational therapy evaluation\n",
    "99281 Emergency department visit, self limited or minor problem\n",
    "84132 Blood potassium level\n"
   ]
  },
  {
   "cell_type": "markdown",
   "metadata": {},
   "source": [
    "## Skipgram 300"
   ]
  },
  {
   "cell_type": "code",
   "execution_count": 9,
   "metadata": {},
   "outputs": [
    {
     "name": "stdout",
     "output_type": "stream",
     "text": [
      "cbow-e150-w10-i200.kv      skipgram-e150-w10-i100.kv\n",
      "cbow-e150-w5-i200.kv       skipgram-e150-w5-i100.kv\n",
      "cbow-e300-w10-i200.kv      skipgram-e300-w10-i100.kv\n",
      "cbow-e300-w5-i200.kv       skipgram-e300-w5-i100.kv\n",
      "cbow-e75-w10-i200.kv       skipgram-e75-w10-i100.kv\n",
      "cbow-e75-w5-i200.kv        skipgram-e75-w5-i100.kv\n",
      "choi-mcemc-e300.kv         uniform-e75.pickle\n",
      "choi-mcemc-e300.pickle\n"
     ]
    }
   ],
   "source": [
    "%ls ../../HCPCS-Embeddings-For-Fraud-Detection/data"
   ]
  },
  {
   "cell_type": "code",
   "execution_count": 10,
   "metadata": {},
   "outputs": [],
   "source": []
  },
  {
   "cell_type": "code",
   "execution_count": 20,
   "metadata": {},
   "outputs": [],
   "source": [
    "hcpcs_eval = ['83904', '20926', '23465', 'J3120', '70557', '84132', '71030']\n",
    "\n",
    "def get_neighbors(embeddings):\n",
    "  for hcpcs in hcpcs_eval:\n",
    "    print(hcpcs, hcpcs_definitions[hcpcs])\n",
    "    top3 = np.argsort(embeddings.cosine_similarities(embeddings[hcpcs], embeddings.vectors))[-4:-1]\n",
    "    top3hcpcs = [embeddings.index2word[x] for x in top3]\n",
    "    top3descriptions = [hcpcs_definitions[x] for x in top3hcpcs]\n",
    "    for result in zip(top3hcpcs, top3descriptions):\n",
    "      print(result)\n",
    "    print()"
   ]
  },
  {
   "cell_type": "code",
   "execution_count": 23,
   "metadata": {},
   "outputs": [
    {
     "name": "stdout",
     "output_type": "stream",
     "text": [
      "83904 Genetic test\n",
      "('83897', 'Genetic test')\n",
      "('88386', 'Evaluation of genetic test')\n",
      "('83894', 'Genetic test')\n",
      "\n",
      "20926 Tissue graft\n",
      "('29879', 'Repair of knee joint using an endoscope')\n",
      "('20900', 'Small bone graft from any donor area')\n",
      "('29876', 'Removal of joint lining from two or more knee joint compartments using an endoscope')\n",
      "\n",
      "23465 Repair of shoulder joint\n",
      "('23929', 'Shoulder procedure')\n",
      "('23450', 'Reattachment of shoulder joint capsule')\n",
      "('23474', 'Repair of shoulder')\n",
      "\n",
      "J3120 Injection, testosterone enanthate, up to 100 mg\n",
      "('A9516', 'Iodine i-123 sodium iodide, diagnostic, per 100 microcuries, up to 999 microcuries')\n",
      "('J3411', 'Injection, thiamine hcl, 100 mg')\n",
      "('J1000', 'Injection, depo-estradiol cypionate, up to 5 mg')\n",
      "\n",
      "70557 MRI scan of brain\n",
      "('61582', 'Removal of facial bone to approach brain lesion')\n",
      "('22207', 'Incision of spine to correct deformity at lower spinal column')\n",
      "('61864', 'Implantation of neurostimulator electrodes in brain')\n",
      "\n",
      "84132 Blood potassium level\n",
      "('82465', 'Cholesterol level')\n",
      "('83880', 'Natriuretic peptide (heart and blood vessel protein) level')\n",
      "('80051', 'Blood test panel for electrolytes (sodium potassium, chloride, carbon dioxide)')\n",
      "\n",
      "71030 X-ray of chest, minimum of 4 views\n",
      "('70030', 'X-ray of eye')\n",
      "('74249', 'X-ray of upper digestive tract glucose, delayed films, or small bowel films')\n",
      "('74247', 'X-ray of upper digestive tract glucose, delayed films, or abdomen view')\n",
      "\n"
     ]
    }
   ],
   "source": [
    "embeddings = KeyedVectors.load('../../HCPCS-Embeddings-For-Fraud-Detection/data/cbow-e300-w5-i200.kv')\n",
    "\n",
    "get_neighbors(embeddings)"
   ]
  },
  {
   "cell_type": "code",
   "execution_count": 22,
   "metadata": {},
   "outputs": [
    {
     "name": "stdout",
     "output_type": "stream",
     "text": [
      "83904 Genetic test\n",
      "('81287', 'MGMT (O-6-methylguanine-DNA methyltransferase) gene analysis')\n",
      "('88283', 'Chromosome analysis for genetic defects')\n",
      "('83894', 'Genetic test')\n",
      "\n",
      "20926 Tissue graft\n",
      "('15770', 'Creation of skin, fat and muscle graft')\n",
      "('20902', 'Bone graft harvest')\n",
      "('20900', 'Small bone graft from any donor area')\n",
      "\n",
      "23465 Repair of shoulder joint\n",
      "('23466', 'Repair of shoulder joint')\n",
      "('24301', 'Relocation of muscle or tendon of upper arm or elbow')\n",
      "('23397', 'Relocation of muscles of shoulder or upper arm')\n",
      "\n",
      "J3120 Injection, testosterone enanthate, up to 100 mg\n",
      "('J1070', 'Injection, testosterone cypionate, up to 100 mg')\n",
      "('J1080', 'Injection, testosterone cypionate, 1 cc, 200 mg')\n",
      "('J3130', 'Injection, testosterone enanthate, up to 200 mg')\n",
      "\n",
      "70557 MRI scan of brain\n",
      "('61751', 'Stereotactic biopsy, aspiration, or excision of brain lesion using CT and/or MRI guidance')\n",
      "('70559', 'MRI scan of brain before and after contrast')\n",
      "('61880', 'Revision or removal of brain neurostimulator electrodes')\n",
      "\n",
      "84132 Blood potassium level\n",
      "('85014', 'Red blood cell concentration measurement')\n",
      "('84295', 'Blood sodium level')\n",
      "('80051', 'Blood test panel for electrolytes (sodium potassium, chloride, carbon dioxide)')\n",
      "\n",
      "71030 X-ray of chest, minimum of 4 views\n",
      "('71101', 'X-ray of ribs with chest minimum of 3 views')\n",
      "('74241', 'X-ray upper gi series delayed films')\n",
      "('71100', 'X-ray of ribs 2 views')\n",
      "\n"
     ]
    }
   ],
   "source": [
    "embeddings = KeyedVectors.load('../../HCPCS-Embeddings-For-Fraud-Detection/data/skipgram-e75-w10-i100.kv')\n",
    "\n",
    "get_neighbors(embeddings)"
   ]
  },
  {
   "cell_type": "code",
   "execution_count": null,
   "metadata": {},
   "outputs": [],
   "source": []
  }
 ],
 "metadata": {
  "kernelspec": {
   "display_name": "Python 3",
   "language": "python",
   "name": "python3"
  },
  "language_info": {
   "codemirror_mode": {
    "name": "ipython",
    "version": 3
   },
   "file_extension": ".py",
   "mimetype": "text/x-python",
   "name": "python",
   "nbconvert_exporter": "python",
   "pygments_lexer": "ipython3",
   "version": "3.6.9"
  }
 },
 "nbformat": 4,
 "nbformat_minor": 4
}
