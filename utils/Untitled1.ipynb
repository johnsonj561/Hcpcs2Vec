{
 "cells": [
  {
   "cell_type": "code",
   "execution_count": 14,
   "metadata": {},
   "outputs": [],
   "source": [
    "import pandas as pd\n",
    "import os\n",
    "import sys\n",
    "import numpy as np\n",
    "\n",
    "proj_dir = '../'\n",
    "\n",
    "def load_dmepos_hcpcs_corpus(sample_size=None):\n",
    "    corpus_file = os.path.join(proj_dir, 'data', 'corpus.npy')\n",
    "    dmepos_file = '/Users/jujohnson/cms-data/raw/medicare-dmepos-2013-2018.csv.gz'\n",
    "    dmepos_cols = ['npi', 'year', 'hcpcs_code', 'number_of_supplier_claims']\n",
    "    \n",
    "    # load corpus from disk if exists\n",
    "    if os.path.isfile(corpus_file):\n",
    "        print(f'Loading corpus from disk {corpus_file}')\n",
    "        corpus = np.load(corpus_file, allow_pickle=True)\n",
    "        return corpus\n",
    "\n",
    "    # load Medicare Data\n",
    "    data = pd.read_csv(dmepos_file, usecols=dmepos_cols, nrows=sample_size)\n",
    "    print(f'Loaded data')\n",
    "\n",
    "    # clean missing values\n",
    "    data.dropna(subset=['hcpcs_code','number_of_supplier_claims'], inplace=True)\n",
    "\n",
    "    # generate sequences of HCPCS codes\n",
    "    # that occur in the same context\n",
    "    grouped_hcpcs = data \\\n",
    "        .sort_values(by='number_of_supplier_claims') \\\n",
    "        .groupby(by=['year', 'npi'])['hcpcs_code'] \\\n",
    "        .agg(list)\n",
    "    grouped_hcpcs = pd.DataFrame(grouped_hcpcs)\n",
    "    print(f'Generated hcpcs sequences')\n",
    "\n",
    "    # drop top 1 percent longest sequences\n",
    "    quantile = 0.99\n",
    "    grouped_hcpcs['seq_length'] = grouped_hcpcs['hcpcs_code'].agg(len)\n",
    "    max_seq_length = grouped_hcpcs['seq_length'].quantile(quantile)\n",
    "    grouped_hcpcs = grouped_hcpcs.loc[grouped_hcpcs['seq_length']\n",
    "                                      <= max_seq_length]\n",
    "    print(f'Removed sequences longer than {max_seq_length}')\n",
    "\n",
    "    # save corpus\n",
    "    np.save(corpus_file, grouped_hcpcs['hcpcs_code'].values)\n",
    "\n",
    "    return grouped_hcpcs['hcpcs_code'].values"
   ]
  },
  {
   "cell_type": "code",
   "execution_count": 15,
   "metadata": {},
   "outputs": [
    {
     "name": "stdout",
     "output_type": "stream",
     "text": [
      "Loaded data\n",
      "Generated hcpcs sequences\n",
      "Removed sequences longer than 32.0\n"
     ]
    }
   ],
   "source": [
    "corpus = load_dmepos_hcpcs_corpus()"
   ]
  },
  {
   "cell_type": "code",
   "execution_count": 16,
   "metadata": {},
   "outputs": [
    {
     "data": {
      "text/plain": [
       "array([list(['E0431', 'E1390']), list(['G0333', 'J7613', 'E0570']),\n",
       "       list(['E1038', 'J7620', 'J7613', 'E0570', 'E0607', 'Q0513', 'A4258', 'A4256', 'A4259', 'A4253']),\n",
       "       ...,\n",
       "       list(['J7626', 'J7606', 'E0443', 'E0140', 'A7003', 'A4258', 'E1392', 'A4256', 'K0001', 'J7613', 'E0431', 'A4259', 'Q0513', 'E1390', 'E0570', 'A4253']),\n",
       "       list(['A4604', 'E0431', 'E0601', 'A4253']),\n",
       "       list(['L3170', 'L3916', 'L1971', 'L0650', 'L3960', 'L1851', 'L2397'])],\n",
       "      dtype=object)"
      ]
     },
     "execution_count": 16,
     "metadata": {},
     "output_type": "execute_result"
    }
   ],
   "source": [
    "corpus"
   ]
  },
  {
   "cell_type": "code",
   "execution_count": null,
   "metadata": {},
   "outputs": [],
   "source": []
  }
 ],
 "metadata": {
  "kernelspec": {
   "display_name": "Python 3",
   "language": "python",
   "name": "python3"
  },
  "language_info": {
   "codemirror_mode": {
    "name": "ipython",
    "version": 3
   },
   "file_extension": ".py",
   "mimetype": "text/x-python",
   "name": "python",
   "nbconvert_exporter": "python",
   "pygments_lexer": "ipython3",
   "version": "3.6.9"
  }
 },
 "nbformat": 4,
 "nbformat_minor": 4
}
