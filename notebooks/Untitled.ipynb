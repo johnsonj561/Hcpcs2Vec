{
 "cells": [
  {
   "cell_type": "code",
   "execution_count": 1,
   "id": "uniform-trick",
   "metadata": {},
   "outputs": [],
   "source": [
    "import sys\n",
    "import os\n",
    "import numpy as np\n",
    "import pandas as pd\n",
    "from gensim.models import Word2Vec, KeyedVectors\n",
    "\n",
    "proj_dir = '/Users/jujohnson/git/Drug2Vec/'\n",
    "sys.path.append(proj_dir)\n",
    "from utils.callbacks import GensimEpochCallback  # NOQA: E402\n",
    "from utils.utils import get_vocab_size, file_ts, Timer, args_to_dict  # NOQA: E402\n",
    "from utils.data import load_drug_name_corpus  # NOQA: E402\n",
    "import logging"
   ]
  },
  {
   "cell_type": "code",
   "execution_count": 2,
   "id": "southern-wrong",
   "metadata": {},
   "outputs": [],
   "source": [
    "debug = True\n",
    "ts = file_ts()\n",
    "\n",
    "window_size = 5\n",
    "min_seq_length = 2\n",
    "embedding_size = 150\n",
    "iters = 5\n",
    "desc = f'e{embedding_size}-w{window_size}-i{iters}-t{ts}'\n",
    "\n",
    "# I/O\n",
    "data_dir = os.environ['CMS_RAW']\n",
    "curr_dir = os.path.join(proj_dir, 'skipgram')\n",
    "embeddings_output = os.path.join(proj_dir, 'embeddings', f'skipgram-{desc}.kv')\n",
    "loss_output = os.path.join(curr_dir, 'logs', f'train-loss-{desc}.csv')\n",
    "time_output = os.path.join(curr_dir, 'logs', f'train-time-{desc}.csv')"
   ]
  },
  {
   "cell_type": "code",
   "execution_count": null,
   "id": "oriental-setting",
   "metadata": {},
   "outputs": [],
   "source": [
    "load_drug_name_corpus(True)"
   ]
  }
 ],
 "metadata": {
  "kernelspec": {
   "display_name": "Python 3",
   "language": "python",
   "name": "python3"
  },
  "language_info": {
   "codemirror_mode": {
    "name": "ipython",
    "version": 3
   },
   "file_extension": ".py",
   "mimetype": "text/x-python",
   "name": "python",
   "nbconvert_exporter": "python",
   "pygments_lexer": "ipython3",
   "version": "3.7.3"
  }
 },
 "nbformat": 4,
 "nbformat_minor": 5
}
