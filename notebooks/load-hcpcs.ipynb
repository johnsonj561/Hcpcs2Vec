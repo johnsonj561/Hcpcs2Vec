{
 "cells": [
  {
   "cell_type": "markdown",
   "metadata": {},
   "source": [
    "# HCPCS Data Structures from Medicare Sample\n",
    "\n",
    "This notebook constructs HCPCS data structures to facilitate training the skip-gram model using a sample of Medicare Part B data from 2012.\n",
    "\n",
    "A HCPCS set is an unordered list of unique HCPCS codes that occur together.\n",
    "\n",
    "In the Medicare data set, data is aggregated by provider (NPI), HCPCS code, and year.\n",
    "\n",
    "For each (NPI, year) pair, we will combine all HCPCS codes provided by the given provider that year. These are effectively procedure codes rendered within the same context."
   ]
  },
  {
   "cell_type": "code",
   "execution_count": 2,
   "metadata": {},
   "outputs": [],
   "source": [
    "import pandas as pd\n",
    "import numpy as np\n",
    "import os\n",
    "import sys"
   ]
  },
  {
   "cell_type": "markdown",
   "metadata": {},
   "source": [
    "## Load Medicare Data"
   ]
  },
  {
   "cell_type": "code",
   "execution_count": 4,
   "metadata": {},
   "outputs": [],
   "source": [
    "data_dir = os.environ['CMS_RAW']"
   ]
  },
  {
   "cell_type": "code",
   "execution_count": 7,
   "metadata": {},
   "outputs": [
    {
     "name": "stdout",
     "output_type": "stream",
     "text": [
      "Medicare_Provider_Utilization_and_Payment_Data__Physician_and_Other_Supplier_CY2012.csv.gz\n"
     ]
    }
   ],
   "source": [
    "%ls $data_dir/2012"
   ]
  },
  {
   "cell_type": "markdown",
   "metadata": {},
   "source": [
    "## Extract HCPCS Sets"
   ]
  },
  {
   "cell_type": "code",
   "execution_count": null,
   "metadata": {},
   "outputs": [],
   "source": []
  }
 ],
 "metadata": {
  "kernelspec": {
   "display_name": "hcpcs",
   "language": "python",
   "name": "hcpcs"
  },
  "language_info": {
   "codemirror_mode": {
    "name": "ipython",
    "version": 3
   },
   "file_extension": ".py",
   "mimetype": "text/x-python",
   "name": "python",
   "nbconvert_exporter": "python",
   "pygments_lexer": "ipython3",
   "version": "3.7.3"
  }
 },
 "nbformat": 4,
 "nbformat_minor": 2
}
