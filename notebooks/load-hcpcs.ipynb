{
 "cells": [
  {
   "cell_type": "markdown",
   "metadata": {},
   "source": [
    "# HCPCS Data Structures from Medicare Sample\n",
    "\n",
    "This notebook constructs HCPCS data structures to facilitate training the skip-gram model using a sample of Medicare Part B data from 2012.\n",
    "\n",
    "A HCPCS set is an unordered list of unique HCPCS codes that occur together.\n",
    "\n",
    "In the Medicare data set, data is aggregated by provider (NPI), HCPCS code, and year.\n",
    "\n",
    "For each (NPI, year) pair, we will combine all HCPCS codes provided by the given provider that year. These are effectively procedure codes rendered within the same context."
   ]
  },
  {
   "cell_type": "code",
   "execution_count": 15,
   "metadata": {},
   "outputs": [],
   "source": [
    "import pandas as pd\n",
    "import numpy as np\n",
    "from sklearn.preprocessing import LabelEncoder\n",
    "import os\n",
    "import sys\n",
    "import pickle\n",
    "\n",
    "pd.set_option('display.max_columns', 500)"
   ]
  },
  {
   "cell_type": "markdown",
   "metadata": {},
   "source": [
    "## Load Medicare Data"
   ]
  },
  {
   "cell_type": "code",
   "execution_count": 18,
   "metadata": {},
   "outputs": [],
   "source": [
    "proj_dir = '/Users/jujohnson/git/Hcpcs2Vec/'\n",
    "data_dir = os.environ['CMS_RAW']"
   ]
  },
  {
   "cell_type": "code",
   "execution_count": 2,
   "metadata": {},
   "outputs": [
    {
     "name": "stdout",
     "output_type": "stream",
     "text": [
      "<class 'pandas.core.frame.DataFrame'>\n",
      "RangeIndex: 9153272 entries, 0 to 9153271\n",
      "Data columns (total 2 columns):\n",
      " #   Column  Dtype \n",
      "---  ------  ----- \n",
      " 0   npi     int64 \n",
      " 1   hcpcs   object\n",
      "dtypes: int64(1), object(1)\n",
      "memory usage: 139.7+ MB\n",
      "CPU times: user 21.1 s, sys: 388 ms, total: 21.4 s\n",
      "Wall time: 21.4 s\n"
     ]
    }
   ],
   "source": [
    "%%time\n",
    "\n",
    "data_file = os.path.join(\n",
    "    data_dir, \n",
    "    '2012', \n",
    "    'Medicare_Provider_Utilization_and_Payment_Data__Physician_and_Other_Supplier_CY2012.csv.gz')\n",
    "\n",
    "\n",
    "# we only need the NPI and HCPCS Columns\n",
    "columns = {\n",
    "    'National Provider Identifier': 'npi',\n",
    "    'HCPCS Code': 'hcpcs'\n",
    "}\n",
    "\n",
    "data = pd.read_csv(data_file, usecols=list(columns.keys()))\n",
    "data.rename(columns=columns, inplace=True)\n",
    "data.info()"
   ]
  },
  {
   "cell_type": "code",
   "execution_count": 3,
   "metadata": {},
   "outputs": [
    {
     "data": {
      "text/html": [
       "<div>\n",
       "<style scoped>\n",
       "    .dataframe tbody tr th:only-of-type {\n",
       "        vertical-align: middle;\n",
       "    }\n",
       "\n",
       "    .dataframe tbody tr th {\n",
       "        vertical-align: top;\n",
       "    }\n",
       "\n",
       "    .dataframe thead th {\n",
       "        text-align: right;\n",
       "    }\n",
       "</style>\n",
       "<table border=\"1\" class=\"dataframe\">\n",
       "  <thead>\n",
       "    <tr style=\"text-align: right;\">\n",
       "      <th></th>\n",
       "      <th>npi</th>\n",
       "      <th>hcpcs</th>\n",
       "    </tr>\n",
       "  </thead>\n",
       "  <tbody>\n",
       "    <tr>\n",
       "      <th>0</th>\n",
       "      <td>1194848424</td>\n",
       "      <td>76830</td>\n",
       "    </tr>\n",
       "    <tr>\n",
       "      <th>1</th>\n",
       "      <td>1497798078</td>\n",
       "      <td>99238</td>\n",
       "    </tr>\n",
       "    <tr>\n",
       "      <th>2</th>\n",
       "      <td>1609810126</td>\n",
       "      <td>99214</td>\n",
       "    </tr>\n",
       "    <tr>\n",
       "      <th>3</th>\n",
       "      <td>1093718066</td>\n",
       "      <td>83036</td>\n",
       "    </tr>\n",
       "    <tr>\n",
       "      <th>4</th>\n",
       "      <td>1417027897</td>\n",
       "      <td>72170</td>\n",
       "    </tr>\n",
       "  </tbody>\n",
       "</table>\n",
       "</div>"
      ],
      "text/plain": [
       "          npi  hcpcs\n",
       "0  1194848424  76830\n",
       "1  1497798078  99238\n",
       "2  1609810126  99214\n",
       "3  1093718066  83036\n",
       "4  1417027897  72170"
      ]
     },
     "execution_count": 3,
     "metadata": {},
     "output_type": "execute_result"
    }
   ],
   "source": [
    "data.head()"
   ]
  },
  {
   "cell_type": "markdown",
   "metadata": {},
   "source": [
    "## Create HCPCS <-> ID Mapping"
   ]
  },
  {
   "cell_type": "code",
   "execution_count": 31,
   "metadata": {},
   "outputs": [
    {
     "name": "stdout",
     "output_type": "stream",
     "text": [
      "Min hcpcs_id: 0\n",
      "Max hcpcs_id: 5948\n",
      "Saved HCPCS label encoded classes to /Users/jujohnson/git/Hcpcs2Vec/data/hcpcs-labelencoding.pickle\n",
      "CPU times: user 1.35 s, sys: 77.7 ms, total: 1.43 s\n",
      "Wall time: 1.43 s\n"
     ]
    }
   ],
   "source": [
    "%%time\n",
    "\n",
    "le = LabelEncoder()\n",
    "\n",
    "data['hcpcs_id'] = le.fit_transform(data['hcpcs'])\n",
    "print(f'Min hcpcs_id: {data[\"hcpcs_id\"].min()}')\n",
    "print(f'Max hcpcs_id: {data[\"hcpcs_id\"].max()}')\n",
    "\n",
    "# save label encoder results to enable inverse transform later\n",
    "hcpcsIdFile = os.path.join(proj_dir, 'data', 'hcpcs-labelencoding.pickle')\n",
    "with open(hcpcsIdFile, 'wb') as fout:\n",
    "    pickle.dump(le.classes_, fout)\n",
    "\n",
    "print(f'Saved HCPCS label encoded classes to {hcpcsIdFile}')"
   ]
  },
  {
   "cell_type": "markdown",
   "metadata": {},
   "source": [
    "## Extract HCPCS Sets"
   ]
  },
  {
   "cell_type": "code",
   "execution_count": 33,
   "metadata": {},
   "outputs": [
    {
     "name": "stdout",
     "output_type": "stream",
     "text": [
      "Saved preprocessed HCPCS corpus to /Users/jujohnson/git/Hcpcs2Vec/data/2012-hcpcs-sets.pickle\n",
      "CPU times: user 2min 49s, sys: 606 ms, total: 2min 50s\n",
      "Wall time: 2min 50s\n"
     ]
    }
   ],
   "source": [
    "%%time\n",
    "\n",
    "corpus = []\n",
    "for npi, group in data.groupby(by='npi'):\n",
    "    hcpcs_set = np.unique(np.asarray(group['hcpcs_id'], dtype='int16'))\n",
    "    corpus.append(hcpcs_set)\n",
    "\n",
    "    \n",
    "corpusFile = os.path.join(proj_dir, 'data', '2012-hcpcs-sets.pickle')\n",
    "with open(corpusFile, 'wb') as fout:\n",
    "    pickle.dump(corpus, fout)\n",
    "    \n",
    "print(f'Saved preprocessed HCPCS corpus to {corpusFile}')"
   ]
  },
  {
   "cell_type": "code",
   "execution_count": null,
   "metadata": {},
   "outputs": [],
   "source": []
  }
 ],
 "metadata": {
  "kernelspec": {
   "display_name": "hcpcs",
   "language": "python",
   "name": "hcpcs"
  },
  "language_info": {
   "codemirror_mode": {
    "name": "ipython",
    "version": 3
   },
   "file_extension": ".py",
   "mimetype": "text/x-python",
   "name": "python",
   "nbconvert_exporter": "python",
   "pygments_lexer": "ipython3",
   "version": "3.7.3"
  }
 },
 "nbformat": 4,
 "nbformat_minor": 2
}
