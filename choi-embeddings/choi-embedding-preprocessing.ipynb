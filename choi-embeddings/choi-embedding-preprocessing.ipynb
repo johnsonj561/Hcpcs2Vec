{
 "cells": [
  {
   "cell_type": "code",
   "execution_count": 7,
   "metadata": {},
   "outputs": [],
   "source": [
    "import pandas as pd\n",
    "import numpy as np\n",
    "import os\n",
    "import pickle"
   ]
  },
  {
   "cell_type": "markdown",
   "metadata": {},
   "source": [
    "## Load Medicare Part B HCPCS"
   ]
  },
  {
   "cell_type": "code",
   "execution_count": 2,
   "metadata": {},
   "outputs": [],
   "source": [
    "partb = pd.read_csv(os.environ['CMS_PARTB_PATH'], usecols=['hcpcs_code', 'hcpcs_description'])\n",
    "unique_hcpcs = partb['hcpcs_code'].unique()\n",
    "hcpcs_map = { code: True for code in unique_hcpcs }"
   ]
  },
  {
   "cell_type": "code",
   "execution_count": 3,
   "metadata": {},
   "outputs": [
    {
     "data": {
      "text/plain": [
       "3125"
      ]
     },
     "execution_count": 3,
     "metadata": {},
     "output_type": "execute_result"
    }
   ],
   "source": [
    "5**5"
   ]
  },
  {
   "cell_type": "markdown",
   "metadata": {},
   "source": [
    "## Load Choi et al. Embeddings\n",
    "\n",
    "Downloaded from https://github.com/clinicalml/embeddings"
   ]
  },
  {
   "cell_type": "code",
   "execution_count": 4,
   "metadata": {},
   "outputs": [],
   "source": [
    "with open('claims_codes_hs_300.txt', 'r') as fin:\n",
    "  lines = fin.readlines()\n",
    "  \n",
    "lines = lines[2:]\n",
    "lines = [line.replace('C_', '').strip() for line in lines if line.startswith('C_')]"
   ]
  },
  {
   "cell_type": "code",
   "execution_count": 5,
   "metadata": {},
   "outputs": [],
   "source": [
    "embeddings = {}\n",
    "\n",
    "for line in lines:\n",
    "  [code, *embedding] = line.split(' ')\n",
    "  embedding = [float(x) for x in embedding]\n",
    "  if hcpcs_map.get(code) == True:\n",
    "    embeddings[code] = embedding"
   ]
  },
  {
   "cell_type": "markdown",
   "metadata": {},
   "source": [
    "## Stats"
   ]
  },
  {
   "cell_type": "code",
   "execution_count": 6,
   "metadata": {},
   "outputs": [
    {
     "name": "stdout",
     "output_type": "stream",
     "text": [
      "Embedding size: 300\n",
      "Medicare data contains 7527 unique HCPCS codes\n",
      "Embeddings contain 6367 unique HCPCS code embeddings\n",
      "HCPCS embedding coverage: 84.58881360435765%\n"
     ]
    }
   ],
   "source": [
    "embedding_size = len(embeddings[unique_hcpcs[0]])\n",
    "print(f'Embedding size: {embedding_size}')\n",
    "\n",
    "hcpcs_count = len(unique_hcpcs)\n",
    "print(f'Medicare data contains {hcpcs_count} unique HCPCS codes')\n",
    "\n",
    "embedding_count = len(embeddings.keys())\n",
    "print(f'Embeddings contain {embedding_count} unique HCPCS code embeddings')\n",
    "\n",
    "coverage = embedding_count / hcpcs_count * 100\n",
    "print(f'HCPCS embedding coverage: {coverage}%')"
   ]
  },
  {
   "cell_type": "markdown",
   "metadata": {},
   "source": [
    "## Save Embeddings"
   ]
  },
  {
   "cell_type": "code",
   "execution_count": 9,
   "metadata": {},
   "outputs": [],
   "source": [
    "with open('../embeddings/choi-mcemc-e300.pickle', 'wb') as fout:\n",
    "  pickle.dump(embeddings, fout)"
   ]
  },
  {
   "cell_type": "code",
   "execution_count": null,
   "metadata": {},
   "outputs": [],
   "source": []
  }
 ],
 "metadata": {
  "kernelspec": {
   "display_name": "Python 3",
   "language": "python",
   "name": "python3"
  },
  "language_info": {
   "codemirror_mode": {
    "name": "ipython",
    "version": 3
   },
   "file_extension": ".py",
   "mimetype": "text/x-python",
   "name": "python",
   "nbconvert_exporter": "python",
   "pygments_lexer": "ipython3",
   "version": "3.6.9"
  }
 },
 "nbformat": 4,
 "nbformat_minor": 4
}
