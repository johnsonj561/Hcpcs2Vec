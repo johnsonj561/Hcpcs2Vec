{
 "cells": [
  {
   "cell_type": "code",
   "execution_count": 1,
   "metadata": {},
   "outputs": [],
   "source": [
    "import pandas as pd\n",
    "import numpy as np\n",
    "import gensim\n",
    "import os"
   ]
  },
  {
   "cell_type": "markdown",
   "metadata": {},
   "source": [
    "## Load Medicare Part B HCPCS"
   ]
  },
  {
   "cell_type": "code",
   "execution_count": 3,
   "metadata": {},
   "outputs": [],
   "source": [
    "partb = pd.read_csv(os.environ['CMS_PARTB_PATH'], usecols=['hcpcs_code'])\n",
    "unique_hcpcs = partb['hcpcs_code'].unique()\n",
    "hcpcs_map = { code: True for code in unique_hcpcs }"
   ]
  },
  {
   "cell_type": "markdown",
   "metadata": {},
   "source": [
    "## Load Choi et al. Embeddings\n",
    "\n",
    "Downloaded from https://github.com/clinicalml/embeddings"
   ]
  },
  {
   "cell_type": "code",
   "execution_count": 12,
   "metadata": {},
   "outputs": [],
   "source": [
    "with open('claims_codes_hs_300.txt', 'r') as fin:\n",
    "  lines = fin.readlines()\n",
    "  \n",
    "lines = lines[2:]\n",
    "lines = [line.replace('C_', '').strip() for line in lines if line.startswith('C_')]"
   ]
  },
  {
   "cell_type": "code",
   "execution_count": 14,
   "metadata": {},
   "outputs": [],
   "source": [
    "embeddings = {}\n",
    "\n",
    "for line in lines:\n",
    "  [code, *embedding] = line.split(' ')\n",
    "  embedding = [float(x) for x in embedding]\n",
    "  if hcpcs_map.get(code) == True:\n",
    "    embeddings[code] = embedding"
   ]
  },
  {
   "cell_type": "markdown",
   "metadata": {},
   "source": [
    "## Stats"
   ]
  },
  {
   "cell_type": "code",
   "execution_count": 17,
   "metadata": {},
   "outputs": [
    {
     "name": "stdout",
     "output_type": "stream",
     "text": [
      "Embedding size: 300\n",
      "Medicare data contains 7527 unique HCPCS codes\n",
      "Embeddings contain 6367 unique HCPCS code embeddings\n",
      "HCPCS embedding coverage: 84.58881360435765%\n"
     ]
    }
   ],
   "source": [
    "embedding_size = len(embeddings[unique_hcpcs[0]])\n",
    "print(f'Embedding size: {embedding_size}')\n",
    "\n",
    "hcpcs_count = len(unique_hcpcs)\n",
    "print(f'Medicare data contains {hcpcs_count} unique HCPCS codes')\n",
    "\n",
    "embedding_count = len(embeddings.keys())\n",
    "print(f'Embeddings contain {embedding_count} unique HCPCS code embeddings')\n",
    "\n",
    "coverage = embedding_count / hcpcs_count * 100\n",
    "print(f'HCPCS embedding coverage: {coverage}%')"
   ]
  },
  {
   "cell_type": "markdown",
   "metadata": {},
   "source": [
    "## Save Embeddings\n",
    "\n",
    "Saving embeddings using gensim KeyedVectors to stay consistent with other embedding types."
   ]
  },
  {
   "cell_type": "code",
   "execution_count": 21,
   "metadata": {},
   "outputs": [],
   "source": [
    "model = gensim.models.keyedvectors.Word2VecKeyedVectors(embedding_size)\n",
    "model.vectors = np.array(list(embeddings.values()))\n",
    "model.vocab = np.array(list(embeddings.keys()))\n",
    "\n",
    "model.save('../embeddings/choi-mcemc-e300.kv')"
   ]
  }
 ],
 "metadata": {
  "kernelspec": {
   "display_name": "Python 3",
   "language": "python",
   "name": "python3"
  },
  "language_info": {
   "codemirror_mode": {
    "name": "ipython",
    "version": 3
   },
   "file_extension": ".py",
   "mimetype": "text/x-python",
   "name": "python",
   "nbconvert_exporter": "python",
   "pygments_lexer": "ipython3",
   "version": "3.6.9"
  }
 },
 "nbformat": 4,
 "nbformat_minor": 4
}
